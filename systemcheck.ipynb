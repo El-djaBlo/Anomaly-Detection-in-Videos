{
 "cells": [
  {
   "cell_type": "code",
   "execution_count": null,
   "id": "e8a1d0d8",
   "metadata": {},
   "outputs": [],
   "source": [
    "import tensorflow as tf\n",
    "from tensorflow import keras"
   ]
  },
  {
   "cell_type": "code",
   "execution_count": null,
   "id": "f4183051",
   "metadata": {},
   "outputs": [],
   "source": [
    "print(\"TensorFlow version:\", tf.__version__)\n",
    "print(\"Keras version:\", keras.__version__)"
   ]
  },
  {
   "cell_type": "code",
   "execution_count": 1,
   "id": "9696f909",
   "metadata": {},
   "outputs": [
    {
     "name": "stdout",
     "output_type": "stream",
     "text": [
      "Checking for library availability and versions:\n",
      "----------------------------------------\n",
      "✅ tensorflow module imported successfully.\n",
      "   Version: 2.18.0 OK\n",
      "✅ keras module imported successfully.\n",
      "   Version: 3.8.0 OK\n",
      "✅ numpy module imported successfully.\n",
      "   Version: 2.0.2 OK\n",
      "✅ scipy module imported successfully.\n",
      "   Version: 1.15.1 OK\n",
      "✅ h5py module imported successfully.\n",
      "   Version: 3.12.1 OK\n",
      "✅ matplotlib module imported successfully.\n",
      "   Version: 3.10.0 OK\n",
      "❌ opencv-python is not installed.\n",
      "❌ scikit-learn is not installed.\n",
      "✅ tqdm module imported successfully.\n",
      "   Version: 4.67.1 OK\n",
      "✅ pandas module imported successfully.\n",
      "   Version: 2.2.3 OK\n",
      "❌ notebook is not installed.\n",
      "✅ jupyter module imported successfully.\n",
      "   Version information not found.\n",
      "✅ torch module imported successfully.\n",
      "   Version: 2.5.1+cu121 OK\n",
      "✅ torchvision module imported successfully.\n",
      "   Version: 0.20.1+cu121 OK\n"
     ]
    }
   ],
   "source": [
    "def check_libraries(libraries):\n",
    "    import importlib.util\n",
    "    import sys\n",
    "\n",
    "    print(\"Checking for library availability and versions:\")\n",
    "    print(\"-\" * 40)\n",
    "\n",
    "    for lib_name, expected_version in libraries.items():\n",
    "        spec = importlib.util.find_spec(lib_name)\n",
    "        if spec is None:\n",
    "            print(f\"❌ {lib_name} is not installed.\")\n",
    "        else:\n",
    "            try:\n",
    "                module = importlib.import_module(lib_name)\n",
    "                print(f\"✅ {lib_name} module imported successfully.\")\n",
    "                if hasattr(module, '__version__'):\n",
    "                    installed_version = module.__version__\n",
    "                    version_check = \"OK\"\n",
    "                    if expected_version and installed_version != expected_version:\n",
    "                        version_check = f\"⚠️ Expected {expected_version}, found {installed_version}\"\n",
    "                    print(f\"   Version: {installed_version} {version_check}\")\n",
    "                elif hasattr(module, 'VERSION'):\n",
    "                    installed_version = module.VERSION\n",
    "                    version_check = \"OK\"\n",
    "                    if expected_version and installed_version != expected_version:\n",
    "                        version_check = f\"⚠️ Expected {expected_version}, found {installed_version}\"\n",
    "                    print(f\"   Version: {installed_version} {version_check}\")\n",
    "                else:\n",
    "                    print(f\"   Version information not found.\")\n",
    "            except ImportError as e:\n",
    "                print(f\"❌ Error importing {lib_name}: {e}\")\n",
    "                print(f\"   Import error details: {e}\") # Added this line\n",
    "            except Exception as e:\n",
    "                print(f\"❌ An unexpected error occurred while checking {lib_name}: {e}\")\n",
    "\n",
    "if __name__ == \"__main__\":\n",
    "    required_libraries = {\n",
    "        \"tensorflow\": \"2.18.0\",\n",
    "        \"keras\": \"3.8.0\",\n",
    "        \"numpy\": None,\n",
    "        \"scipy\": None,\n",
    "        \"h5py\": None,\n",
    "        \"matplotlib\": None,\n",
    "        \"opencv-python\": None,\n",
    "        \"scikit-learn\": None,\n",
    "        \"tqdm\": None,\n",
    "        \"pandas\": None,\n",
    "        \"notebook\": None,\n",
    "        \"jupyter\": None,\n",
    "        \"torch\": None,\n",
    "        \"torchvision\": None,\n",
    "    }\n",
    "    check_libraries(required_libraries)"
   ]
  },
  {
   "cell_type": "code",
   "execution_count": 2,
   "id": "113c51ec",
   "metadata": {},
   "outputs": [
    {
     "name": "stdout",
     "output_type": "stream",
     "text": [
      "scikit-learn version: 1.6.1\n",
      "opencv-python version: 4.11.0\n"
     ]
    }
   ],
   "source": [
    "try:\n",
    "    import sklearn\n",
    "    print(f\"scikit-learn version: {sklearn.__version__}\")\n",
    "except ImportError as e:\n",
    "    print(f\"Error importing scikit-learn: {e}\")\n",
    "\n",
    "try:\n",
    "    import cv2\n",
    "    print(f\"opencv-python version: {cv2.__version__}\")\n",
    "except ImportError as e:\n",
    "    print(f\"Error importing cv2: {e}\")"
   ]
  },
  {
   "cell_type": "code",
   "execution_count": null,
   "id": "0b697551",
   "metadata": {},
   "outputs": [],
   "source": []
  }
 ],
 "metadata": {
  "kernelspec": {
   "display_name": "Python 3",
   "language": "python",
   "name": "python3"
  },
  "language_info": {
   "codemirror_mode": {
    "name": "ipython",
    "version": 3
   },
   "file_extension": ".py",
   "mimetype": "text/x-python",
   "name": "python",
   "nbconvert_exporter": "python",
   "pygments_lexer": "ipython3",
   "version": "3.12.8"
  }
 },
 "nbformat": 4,
 "nbformat_minor": 5
}
